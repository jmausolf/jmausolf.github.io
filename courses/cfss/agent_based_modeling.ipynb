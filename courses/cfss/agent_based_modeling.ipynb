{
 "cells": [
  {
   "cell_type": "markdown",
   "metadata": {},
   "source": [
    "# Random initialization"
   ]
  },
  {
   "cell_type": "code",
   "execution_count": 4,
   "metadata": {
    "collapsed": false
   },
   "outputs": [
    {
     "name": "stdout",
     "output_type": "stream",
     "text": [
      "[0, 1, 0, 0, 0, 1, 0, 0, 1, 1, 1, 1, 1, 1, 0, 0, 0, 0, 1, 1]\n"
     ]
    }
   ],
   "source": [
    "import random\n",
    "size = 20\n",
    "numXs = 10\n",
    "numOs = size-numXs\n",
    "world = []\n",
    "world.extend( [0]*numOs )\n",
    "world.extend( [1]*numXs )\n",
    "random.shuffle(world)\n",
    "print(world)"
   ]
  },
  {
   "cell_type": "markdown",
   "metadata": {},
   "source": [
    "# Prettier printing"
   ]
  },
  {
   "cell_type": "code",
   "execution_count": 6,
   "metadata": {
    "collapsed": false
   },
   "outputs": [
    {
     "name": "stdout",
     "output_type": "stream",
     "text": [
      "O#OOO#OO######OOOO##\n"
     ]
    }
   ],
   "source": [
    "def world_as_string(world):\n",
    "    '''Create a string representation\n",
    "    of object `world` using #s and Os'''\n",
    "    output = ''\n",
    "    for slot in world:\n",
    "        if slot == 0:\n",
    "            output += 'O'\n",
    "        else:\n",
    "            output += '#'\n",
    "    return(output)\n",
    "\n",
    "print(world_as_string(world))"
   ]
  },
  {
   "cell_type": "markdown",
   "metadata": {},
   "source": [
    "# Proportion of like neighbors"
   ]
  },
  {
   "cell_type": "code",
   "execution_count": 7,
   "metadata": {
    "collapsed": true
   },
   "outputs": [],
   "source": [
    "def proportion_same(i,world,distance=2):\n",
    "    '''Given a world object and an index `i`, return\n",
    "    the proportion of world[i]'s neighbors that are\n",
    "    the same type as world[i] itself.'''\n",
    "\n",
    "    neighbors = []\n",
    "\n",
    "    # get left neighbors\n",
    "    leftIndex = max(0,i-distance)\n",
    "    neighbors += world[leftIndex:i]\n",
    "\n",
    "    # get right neighbors\n",
    "    rightIndex = min(len(world),i+distance+1)\n",
    "    neighbors += world[i+1:rightIndex]\n",
    "\n",
    "    num1s = sum(neighbors)\n",
    "    num0s = len(neighbors) - num1s\n",
    "\n",
    "    if world[i]==0:\n",
    "        return( float(num0s)/(num0s+num1s) )\n",
    "    elif world[i]==1:\n",
    "        return( float(num1s)/(num0s+num1s) ) "
   ]
  },
  {
   "cell_type": "markdown",
   "metadata": {},
   "source": [
    "# Unhappy agents"
   ]
  },
  {
   "cell_type": "code",
   "execution_count": 8,
   "metadata": {
    "collapsed": true
   },
   "outputs": [],
   "source": [
    "def unhappy_agents(world,threshold=.5,distance=2):\n",
    "    '''Return a list of indices i for which less than\n",
    "    `threshold` of world[i]'s neighbors are of the same\n",
    "    type as world[i] itself'''\n",
    "\n",
    "    unhappy = []\n",
    "    for i in range(len(world)):\n",
    "        if proportion_same(i,world,distance) < threshold:\n",
    "            unhappy.append(i)\n",
    "    return(unhappy)"
   ]
  },
  {
   "cell_type": "markdown",
   "metadata": {},
   "source": [
    "# Random move"
   ]
  },
  {
   "cell_type": "code",
   "execution_count": 10,
   "metadata": {
    "collapsed": true
   },
   "outputs": [],
   "source": [
    "def randomMove(i,world):\n",
    "    '''move item at index `i` in `world` to a\n",
    "    random (possibly identical) index'''\n",
    "\n",
    "    agent = world.pop(i)\n",
    "    insertAt = random.randint(0,len(world))\n",
    "    world.insert(insertAt,agent)"
   ]
  },
  {
   "cell_type": "markdown",
   "metadata": {},
   "source": [
    "# Putting it together"
   ]
  },
  {
   "cell_type": "code",
   "execution_count": 16,
   "metadata": {
    "collapsed": false
   },
   "outputs": [
    {
     "name": "stdout",
     "output_type": "stream",
     "text": [
      "O#OOO#OO#OO####O#O#####OOOOOO#O###O#OO##\n",
      "O#OOOO#OO#OO####O#O#####OOOOOO#O####OO##\n",
      "O#OO#OO#OO#OO####O#O####OOOOOO#O####OO##\n",
      "O#OO#OO#OO#OOO####O#O####OOOOOO#O####O##\n",
      "O#OO#OOOO##OOO####O#O####OOOOOO#O####O##\n",
      "O#OOO#OOOO##OOO####O#O####OOOOOO#O######\n",
      "O#OOOO#OOOO##OO####O#O####OOOOOO#O######\n",
      "OOOOO#OOOO##OO####O#O#####OOOOOO#O######\n",
      "OOOOOO#OOOO##OO#####O#####OOOOOO#O######\n",
      "OOOOOO#OOOO#OO#####O#####OOO#OOO#O######\n",
      "OOOOOOOOOO#OO#####O#####OOO#O#OO#O######\n",
      "OOOOOOOOOO#OO#####O######OOOO#OO#O######\n",
      "OOOO#OOOOOOOO#####O######OOOO#OO#O######\n",
      "OOOO#OOOOOOOO####O#######OOOO#OO#O######\n",
      "OOOOOOOO#OOOO####O#######OOOO#OO#O######\n",
      "OOOOOOOOOOOO####O#######OOOO#OO#O#######\n",
      "OOOOOOOOOOOO####O#######OOOO#OO#O#######\n",
      "OOOOOOOOOOOO####O###O####OOO#OO#O#######\n",
      "OOOOOOOOOOOO####O###O####OOO#OO#O#######\n",
      "OOOOOOOOOOOO#####O###O####OOOOO#O#######\n",
      "OOOOOOOOOOOO#####O###O####OOOOO######O##\n",
      "OOOOOOOOOOOO###O##O###O####OOOO######O##\n",
      "OOOOOOOOOOOOO###O##O###O####OOO######O##\n",
      "OOOOOOOOOOOOO###O##OO###O####OOO########\n",
      "OOOOOOOOOOOOOO###O##O###O####OOO########\n",
      "OOOOOOOOOOOOOOO###O##O#######OOO########\n",
      "OOOOOOOOOOOOOOOO#####O#######OOO########\n",
      "OOOOOOOOOOOOOOOOO#####O#######OO########\n",
      "OOOOOOOOOOOOOOOOOO#####O#######O########\n",
      "OOOOOOOOOOOOOOOOOO############OO########\n",
      "OOOOOOOOOOOOOOOOOO#########O###O########\n",
      "OOOOOOOOOOOOOOOOOO#######O##O###########\n",
      "OOOOOOOOOOOOOOOOOOO#########O###########\n",
      "OOOOOOOOOOOOOOOOOOO###O#################\n",
      "OOOOOOOOOOO#OOOOOOOO##O#################\n",
      "OOOOOOOOOOOO#OOOOOOOO###################\n",
      "OOOO#OOOOOOOOOOOOOOOO###################\n",
      "OOOOOOOOOOOOOOOOOOOO####################\n"
     ]
    }
   ],
   "source": [
    "# parameters\n",
    "threshold = 0.5\n",
    "nbhd_distance = 5\n",
    "size = 40\n",
    "numXs = 20\n",
    "\n",
    "numOs = size-numXs\n",
    "world = []\n",
    "world.extend( [0]*numOs )\n",
    "world.extend( [1]*numXs )\n",
    "random.shuffle(world)\n",
    "\n",
    "while unhappy_agents(world,threshold,nbhd_distance):\n",
    "    # get list of unhappy agents:\n",
    "    cur_unhappy = unhappy_agents(world,threshold,nbhd_distance)\n",
    "    # pick one at random:\n",
    "    index = random.choice(cur_unhappy)\n",
    "    # move that agent to a new slot:\n",
    "    randomMove(index,world)\n",
    "    print(world_as_string(world))"
   ]
  },
  {
   "cell_type": "code",
   "execution_count": null,
   "metadata": {
    "collapsed": true
   },
   "outputs": [],
   "source": []
  }
 ],
 "metadata": {
  "kernelspec": {
   "display_name": "Python [Root]",
   "language": "python",
   "name": "Python [Root]"
  },
  "language_info": {
   "codemirror_mode": {
    "name": "ipython",
    "version": 3
   },
   "file_extension": ".py",
   "mimetype": "text/x-python",
   "name": "python",
   "nbconvert_exporter": "python",
   "pygments_lexer": "ipython3",
   "version": "3.5.2"
  }
 },
 "nbformat": 4,
 "nbformat_minor": 0
}
